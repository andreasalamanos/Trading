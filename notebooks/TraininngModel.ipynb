{
 "cells": [
  {
   "cell_type": "code",
   "execution_count": 1,
   "metadata": {
    "scrolled": true
   },
   "outputs": [],
   "source": [
    "\n",
    "import findspark\n",
    "findspark.init()\n",
    "from pyspark.ml.feature import Tokenizer, RegexTokenizer\n",
    "from pyspark.ml.feature import CountVectorizer\n",
    "import pandas as pd\n",
    "from pyspark.ml.feature import HashingTF, IDF, Tokenizer, CountVectorizer\n",
    "from pyspark.ml.feature import StringIndexer\n",
    "from pyspark.ml import Pipeline\n",
    "from pyspark.ml.classification import LogisticRegression\n",
    "from pyspark.ml.evaluation import BinaryClassificationEvaluator\n",
    "from pyspark.sql import functions as fn\n",
    "\n",
    "from pyspark.ml.feature import HashingTF, IDF, Tokenizer\n",
    "from pyspark.ml.feature import StringIndexer\n",
    "from pyspark.ml import Pipeline\n",
    "from pyspark.ml.feature import StopWordsRemover\n",
    "import requests\n",
    "from pyspark import SparkContext\n",
    "from pyspark.sql import SQLContext\n",
    "from pyspark.streaming import StreamingContext\n",
    "\n",
    "sc = SparkContext()\n",
    "sqlContext = SQLContext(sc)\n",
    "ssc = StreamingContext(sc, 10)#.getOrCreate()\n",
    "\n",
    "stop_words = requests.get('http://ir.dcs.gla.ac.uk/resources/linguistic_utils/stop_words').text.split()\n",
    "# github.com/daniel-acuna/python data science intro/tree/master/data -->dataset\n",
    "tweet_df = sqlContext.read.parquet('./training_set/TrainTweet.parquet')\n",
    "\n"
   ]
  },
  {
   "cell_type": "code",
   "execution_count": 2,
   "metadata": {},
   "outputs": [],
   "source": [
    "tokenizer = RegexTokenizer().setGaps(False)\\\n",
    "  .setPattern(\"\\\\p{L}+\")\\\n",
    "  .setInputCol(\"text\")\\\n",
    "  .setOutputCol(\"token\")\n",
    "\n",
    "\n",
    "stop_w_remover = StopWordsRemover()\\\n",
    "  .setStopWords(stop_words)\\\n",
    "  .setCaseSensitive(False)\\\n",
    "  .setInputCol(\"token\")\\\n",
    "  .setOutputCol(\"FilteredTweet\")\n",
    "\n",
    "vec = CountVectorizer(minTF=1., minDF=5., vocabSize=2**17)\\\n",
    "  .setInputCol(\"FilteredTweet\")\\\n",
    "  .setOutputCol(\"tf\")\n",
    "\n",
    "pipeline = Pipeline(stages=[tokenizer, stop_w_remover, vec]).fit(tweet_df)"
   ]
  },
  {
   "cell_type": "code",
   "execution_count": 3,
   "metadata": {
    "scrolled": true
   },
   "outputs": [],
   "source": [
    "idf = IDF().setInputCol('tf').setOutputCol('idf')\n",
    "\n",
    "pipeline_2 = Pipeline(stages=[pipeline, idf]).fit(tweet_df)\n",
    "idf_df = pipeline_2.transform(tweet_df)"
   ]
  },
  {
   "cell_type": "code",
   "execution_count": 4,
   "metadata": {},
   "outputs": [],
   "source": [
    "from  pyspark.sql.functions import *\n",
    "print('Count Occurencies of words in the training set')\n",
    "occurencies_df =  idf_df.select(concat_ws(' ', idf_df.FilteredTweet).alias('CleanString'))\n",
    "\n",
    "count_occ_df = occurencies_df.withColumn('Occurencies', explode(split(col('CleanString'), ' ')))\\\n",
    "    .groupBy('Occurencies')\\\n",
    "    .count()\\\n",
    "    .sort('count', ascending=False)\n",
    "    "
   ]
  },
  {
   "cell_type": "code",
   "execution_count": 5,
   "metadata": {},
   "outputs": [
    {
     "data": {
      "text/plain": [
       "<matplotlib.axes._subplots.AxesSubplot at 0x7f39acf1a5f8>"
      ]
     },
     "execution_count": 5,
     "metadata": {},
     "output_type": "execute_result"
    },
    {
     "data": {
      "image/png": "[encoded data removed]",
      "text/plain": [
       "<Figure size 1440x720 with 1 Axes>"
      ]
     },
     "metadata": {
      "needs_background": "light"
     },
     "output_type": "display_data"
    }
   ],
   "source": [
    "# to Pandas\n",
    "pandas_count = count_occ_df.toPandas()\n",
    "# Plot the 25 most frequent words\n",
    "pandas_count.head(25).plot(kind='barh', x='Occurencies', y='count',figsize=(20,10) )"
   ]
  },
  {
   "cell_type": "code",
   "execution_count": 6,
   "metadata": {},
   "outputs": [
    {
     "name": "stdout",
     "output_type": "stream",
     "text": [
      "Split the dataset\n"
     ]
    }
   ],
   "source": [
    "print('Split the dataset')\n",
    "training_df, validation_df = tweet_df.randomSplit([0.7, 0.3], seed=87)"
   ]
  },
  {
   "cell_type": "code",
   "execution_count": 7,
   "metadata": {
    "scrolled": false
   },
   "outputs": [],
   "source": [
    "from pyspark.ml.classification import NaiveBayes, NaiveBayesModel\n",
    "model = NaiveBayes().\\\n",
    "    setLabelCol('Class').\\\n",
    "    setFeaturesCol('idf')\n",
    "\n",
    "model_pipeline = Pipeline(stages=[pipeline_2, model]).fit(training_df)\n"
   ]
  },
  {
   "cell_type": "code",
   "execution_count": 8,
   "metadata": {},
   "outputs": [
    {
     "name": "stdout",
     "output_type": "stream",
     "text": [
      "Validate the trained model\n",
      "+------------------+\n",
      "|      avg(correct)|\n",
      "+------------------+\n",
      "|0.7503961288683728|\n",
      "+------------------+\n",
      "\n"
     ]
    }
   ],
   "source": [
    "print('Validate the trained model')\n",
    "model_pipeline.transform(validation_df).\\\n",
    "    select(fn.expr('float(prediction = Class)').alias('correct')).\\\n",
    "    select(fn.avg('correct')).show()\n"
   ]
  },
  {
   "cell_type": "code",
   "execution_count": 10,
   "metadata": {},
   "outputs": [
    {
     "name": "stdout",
     "output_type": "stream",
     "text": [
      "Save model\n"
     ]
    }
   ],
   "source": [
    "print('Save model')\n",
    "model_pipeline.save('./trained_model/')"
   ]
  },
  {
   "cell_type": "code",
   "execution_count": null,
   "metadata": {},
   "outputs": [],
   "source": []
  },
  {
   "cell_type": "code",
   "execution_count": null,
   "metadata": {
    "scrolled": false
   },
   "outputs": [],
   "source": []
  },
  {
   "cell_type": "code",
   "execution_count": null,
   "metadata": {},
   "outputs": [],
   "source": []
  }
 ],
 "metadata": {
  "kernelspec": {
   "display_name": "Python 3",
   "language": "python",
   "name": "python3"
  },
  "language_info": {
   "codemirror_mode": {
    "name": "ipython",
    "version": 3
   },
   "file_extension": ".py",
   "mimetype": "text/x-python",
   "name": "python",
   "nbconvert_exporter": "python",
   "pygments_lexer": "ipython3",
   "version": "3.6.9"
  }
 },
 "nbformat": 4,
 "nbformat_minor": 4
}
